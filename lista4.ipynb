{
 "cells": [
  {
   "cell_type": "code",
   "execution_count": null,
   "id": "2de59a08",
   "metadata": {},
   "outputs": [],
   "source": [
    "#Questão 1\n",
    "\n",
    "for i in range (1,11):\n",
    "    print(i)"
   ]
  },
  {
   "cell_type": "code",
   "execution_count": null,
   "id": "27633712",
   "metadata": {},
   "outputs": [],
   "source": [
    "#Questão 2\n",
    "\n",
    "contador = 10\n",
    "\n",
    "while contador >= 1:\n",
    "    print(contador)\n",
    "    contador -= 1\n"
   ]
  },
  {
   "cell_type": "code",
   "execution_count": null,
   "id": "ff412993",
   "metadata": {},
   "outputs": [],
   "source": [
    "#Questão 3\n",
    "\n",
    "for i in range (0,21,2):\n",
    "    print(i)\n",
    "    \n",
    "\n"
   ]
  },
  {
   "cell_type": "code",
   "execution_count": null,
   "id": "bcd40fb2",
   "metadata": {},
   "outputs": [],
   "source": [
    "#Questão 4\n",
    "soma = 0\n",
    "contador = 1\n",
    "while contador <= 5:\n",
    "    numeros = int(input(f\"Digite o {contador}º número :\"))\n",
    "    soma += numeros\n",
    "    contador += 1\n",
    "\n",
    "\n",
    "print(soma)\n",
    "    \n"
   ]
  },
  {
   "cell_type": "code",
   "execution_count": null,
   "id": "4a7d5cff",
   "metadata": {},
   "outputs": [],
   "source": [
    "#Questão 5\n",
    "numero = int(input(\"Digite um número : \"))\n",
    "for contador in range(1,11):\n",
    "    print(f\"{numero} X {contador} = {numero*contador}\")"
   ]
  },
  {
   "cell_type": "code",
   "execution_count": null,
   "id": "14bfd1b8",
   "metadata": {},
   "outputs": [],
   "source": [
    "#Questão 6\n",
    "\n",
    "for contador in range(0,51):\n",
    "    mult = contador%3\n",
    "    if mult%3 == 0:\n",
    "        print(contador)\n"
   ]
  },
  {
   "cell_type": "code",
   "execution_count": 40,
   "id": "da0ab156",
   "metadata": {},
   "outputs": [
    {
     "name": "stdout",
     "output_type": "stream",
     "text": [
      "Número digitados : [5, 4, 8, -9, 0, -3]\n",
      "Contador = Positivos : 3, Negativos : 2, Zeros : 1\n"
     ]
    }
   ],
   "source": [
    "#Questão 7\n",
    "zero = 0\n",
    "positivo = 0\n",
    "negativo = 0\n",
    "contador = 1\n",
    "lista = []\n",
    "\n",
    "while contador <= 6:\n",
    "    numero = int(input(\"Digite um número : \"))\n",
    "    lista.append(numero)\n",
    "    if numero == 0:\n",
    "        zero +=1\n",
    "    elif numero > 0:\n",
    "        positivo+=1\n",
    "    elif numero < 0:\n",
    "        negativo+=1\n",
    "    contador+=1\n",
    "\n",
    "print(f\"Número digitados : {lista}\")\n",
    "print(f\"Contador = Positivos : {positivo}, Negativos : {negativo}, Zeros : {zero}\")\n"
   ]
  },
  {
   "cell_type": "code",
   "execution_count": null,
   "id": "727931d9",
   "metadata": {},
   "outputs": [],
   "source": [
    "#Questão 8\n",
    "\n",
    "soma = 0\n",
    "numero = 0\n",
    "lista = []\n",
    "\n",
    "while True:\n",
    "    numero = int(input(\"Digite um número : \"))\n",
    "    lista.append(numero)\n",
    "    print(f\"Numeros digitados : {lista}\")\n",
    "    \n",
    "\n",
    "    if numero >= 0:\n",
    "        soma += numero \n",
    "        print(f\"Soma dos números : {soma}\")\n",
    "\n",
    "    elif numero < 0:\n",
    "        print(f\"O ultimo número digitado foi negativo! O sistema parou com o total da soma de {soma}\")\n",
    "        break\n",
    "\n",
    "\n"
   ]
  },
  {
   "cell_type": "code",
   "execution_count": null,
   "id": "5f86de09",
   "metadata": {},
   "outputs": [],
   "source": [
    "#Questão 9\n",
    "import random\n",
    "contador = 0\n",
    "\n",
    "while True:\n",
    "    nSorte = random.randint(1,20)\n",
    "    meuNumero = int(input(\"Digite o seu número da sorte : \"))\n",
    "    if meuNumero == nSorte:\n",
    "        print(f\"Parabéns! Você acertou! \\n Seu número foi : {meuNumero} e o número da sorte : {nSorte}.\")\n",
    "        break \n",
    "    else : print(f\"Seu número foi : {meuNumero} e o número da sorte : {nSorte}. Tente novamente!\")       \n",
    "        \n",
    "    \n",
    "    \n",
    "    \n",
    "\n"
   ]
  },
  {
   "cell_type": "code",
   "execution_count": 13,
   "id": "28b2f4f9",
   "metadata": {},
   "outputs": [
    {
     "name": "stdout",
     "output_type": "stream",
     "text": [
      "2500\n"
     ]
    }
   ],
   "source": [
    "#Questão 10\n",
    "\n",
    "contador = 1\n",
    "soma = 0\n",
    "\n",
    "while contador < 100:\n",
    "    if contador%2 != 0:\n",
    "     soma += contador\n",
    "    contador +=1\n",
    "\n",
    "print(soma)\n",
    "    "
   ]
  },
  {
   "cell_type": "code",
   "execution_count": null,
   "id": "b5511d24",
   "metadata": {},
   "outputs": [],
   "source": [
    "#Questão 11 // NÃO CONCLUÍDO\n",
    "import time\n",
    "\n",
    "lista = []\n",
    "numero = int(input(\"Digite um número: \"))\n",
    "\n",
    "for contador in reversed(range(numero,-1)):\n",
    "    print(contador)\n",
    "    time.sleep(1)\n"
   ]
  },
  {
   "cell_type": "code",
   "execution_count": 37,
   "id": "3437ba28",
   "metadata": {},
   "outputs": [
    {
     "ename": "ZeroDivisionError",
     "evalue": "integer modulo by zero",
     "output_type": "error",
     "traceback": [
      "\u001b[31m---------------------------------------------------------------------------\u001b[39m",
      "\u001b[31mZeroDivisionError\u001b[39m                         Traceback (most recent call last)",
      "\u001b[36mCell\u001b[39m\u001b[36m \u001b[39m\u001b[32mIn[37]\u001b[39m\u001b[32m, line 6\u001b[39m\n\u001b[32m      1\u001b[39m \u001b[38;5;66;03m#Questão 12\u001b[39;00m\n\u001b[32m      3\u001b[39m numero = \u001b[38;5;28mint\u001b[39m(\u001b[38;5;28minput\u001b[39m(\u001b[33m\"\u001b[39m\u001b[33mDigite um número :\u001b[39m\u001b[33m\"\u001b[39m))\n\u001b[32m----> \u001b[39m\u001b[32m6\u001b[39m \u001b[38;5;28;01mif\u001b[39;00m \u001b[43mnumero\u001b[49m\u001b[43m%\u001b[49m\u001b[32;43m0\u001b[39;49m == numero \u001b[38;5;129;01mor\u001b[39;00m numero%\u001b[32m0\u001b[39m == \u001b[32m1\u001b[39m:\n\u001b[32m      7\u001b[39m     \u001b[38;5;28mprint\u001b[39m(\u001b[33m\"\u001b[39m\u001b[33mnumero primo\u001b[39m\u001b[33m\"\u001b[39m)\n",
      "\u001b[31mZeroDivisionError\u001b[39m: integer modulo by zero"
     ]
    }
   ],
   "source": [
    "#Questão 12\n",
    "\n",
    "numero = int(input(\"Digite um número :\"))\n",
    "\n",
    "\n",
    "if numero%0 == numero or numero%0 == 1:\n",
    "    print(\"numero primo\")\n"
   ]
  }
 ],
 "metadata": {
  "kernelspec": {
   "display_name": "Python 3",
   "language": "python",
   "name": "python3"
  },
  "language_info": {
   "codemirror_mode": {
    "name": "ipython",
    "version": 3
   },
   "file_extension": ".py",
   "mimetype": "text/x-python",
   "name": "python",
   "nbconvert_exporter": "python",
   "pygments_lexer": "ipython3",
   "version": "3.12.0"
  }
 },
 "nbformat": 4,
 "nbformat_minor": 5
}
