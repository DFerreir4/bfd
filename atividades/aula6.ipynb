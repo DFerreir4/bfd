{
 "cells": [
  {
   "cell_type": "code",
   "execution_count": null,
   "id": "480a4df1",
   "metadata": {},
   "outputs": [],
   "source": [
    "#Atividade Guiada - Refatorar Código com Funções\n",
    "#Escolher um dos códigos anteriores (ex: to-do list, tabuada, login). \n",
    "#Separar funcionalidades em funções\n",
    "#Melhorar a organização do código\n",
    "\n",
    "\n",
    "def operacao(numero):\n",
    "    while True:\n",
    "        numero = int(input(\"Digite um número para tabuada : \"))\n",
    "        if numero == 0:\n",
    "            print(\"Você digitou 0[ZERO]! Sistema foi encerrado.\")\n",
    "            break\n",
    "        elif numero != 0:\n",
    "            for i in range(1,11):\n",
    "                print(f\"{i} X {numero} = {i*numero}\")\n",
    "            print(\"----------------------------------\")\n",
    "\n",
    "            opera\n"
   ]
  }
 ],
 "metadata": {
  "language_info": {
   "name": "python"
  }
 },
 "nbformat": 4,
 "nbformat_minor": 5
}
