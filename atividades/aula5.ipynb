{
 "cells": [
  {
   "cell_type": "code",
   "execution_count": null,
   "id": "c1ad9d46",
   "metadata": {},
   "outputs": [],
   "source": [
    "#Jogo de adivinhação (Desafio Leve)\n",
    "import random\n",
    "\n",
    "numero_sorteado = random.randint(1,10)\n",
    "\n",
    "while True:\n",
    "    numero = int(input(\"Digite um número para acertar : \"))\n",
    "    if numero < numero_sorteado:\n",
    "        print(f\"Digite uma numeração maior que a atual para acertar\")\n",
    "    elif numero > numero_sorteado:\n",
    "        print(f\"Digite uma numeração menor que a atual para acertar\")\n",
    "    elif numero == numero_sorteado: \n",
    "        print(f\"Parabéns! Você acertou {numero,numero_sorteado} \")\n",
    "        break"
   ]
  },
  {
   "cell_type": "code",
   "execution_count": null,
   "id": "a2fbeab3",
   "metadata": {},
   "outputs": [],
   "source": [
    "#Atividade 1\n",
    "\n",
    "contador = 1\n",
    "lista = []\n",
    "\n",
    "while contador <= 5:\n",
    "    numero = int(input(f\"Digite o {contador}° número :\"))\n",
    "    contador +=1\n",
    "    if numero%2 == 0:\n",
    "        lista.append(numero)\n",
    "\n",
    "print(f\"números pares: {lista} a soma dos números pares {sum(lista)}\")"
   ]
  },
  {
   "cell_type": "code",
   "execution_count": null,
   "id": "e19bb683",
   "metadata": {},
   "outputs": [],
   "source": [
    "#Atividade 2\n",
    "\n",
    "lista = []\n",
    "contador = 1\n",
    "\n",
    "while contador <= 5:\n",
    "    produtos = str(input(f\"Digite o nome do {contador}° produto : \"))\n",
    "    lista.append(produtos)\n",
    "    contador += 1\n",
    "\n",
    "print(lista)"
   ]
  },
  {
   "cell_type": "code",
   "execution_count": null,
   "id": "7125578d",
   "metadata": {},
   "outputs": [],
   "source": [
    "#Atividade 3\n",
    "\n",
    "while True:\n",
    "    numero = int(input(\"Digite um número para tabuada : \"))\n",
    "    if numero == 0:\n",
    "        print(\"Você digitou 0[ZERO]! Sistema foi encerrado.\")\n",
    "        break\n",
    "    elif numero != 0:\n",
    "        for i in range(1,11):\n",
    "            print(f\"{i} X {numero} = {i*numero}\")\n",
    "    print(\"----------------------------------\")\n",
    "    \n",
    "        \n",
    "    \n",
    "    "
   ]
  }
 ],
 "metadata": {
  "kernelspec": {
   "display_name": "Python 3",
   "language": "python",
   "name": "python3"
  },
  "language_info": {
   "codemirror_mode": {
    "name": "ipython",
    "version": 3
   },
   "file_extension": ".py",
   "mimetype": "text/x-python",
   "name": "python",
   "nbconvert_exporter": "python",
   "pygments_lexer": "ipython3",
   "version": "3.12.0"
  }
 },
 "nbformat": 4,
 "nbformat_minor": 5
}
