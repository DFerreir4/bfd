{
 "cells": [
  {
   "cell_type": "code",
   "execution_count": null,
   "id": "c1ad9d46",
   "metadata": {},
   "outputs": [],
   "source": [
    "#Jogo de adivinhação (Desafio Leve)"
   ]
  }
 ],
 "metadata": {
  "language_info": {
   "name": "python"
  }
 },
 "nbformat": 4,
 "nbformat_minor": 5
}
