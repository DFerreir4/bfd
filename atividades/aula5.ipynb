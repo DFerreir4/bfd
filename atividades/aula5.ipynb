{
 "cells": [
  {
   "cell_type": "code",
   "execution_count": null,
   "id": "c1ad9d46",
   "metadata": {},
   "outputs": [],
   "source": [
    "#Jogo de adivinhação (Desafio Leve)\n",
    "import random\n",
    "\n",
    "numero_sorteado = random.randint(1,10)\n",
    "\n",
    "while True:\n",
    "    numero = int(input(\"Digite um número para acertar : \"))\n",
    "    if numero < numero_sorteado:\n",
    "        print(f\"Digite uma numeração maior que a atual para acertar\")\n",
    "    elif numero > numero_sorteado:\n",
    "        print(f\"Digite uma numeração menor que a atual para acertar\")\n",
    "    elif numero == numero_sorteado: \n",
    "        print(f\"Parabéns! Você acertou {numero,numero_sorteado} \")\n",
    "        break"
   ]
  },
  {
   "cell_type": "code",
   "execution_count": null,
   "id": "a2fbeab3",
   "metadata": {},
   "outputs": [],
   "source": [
    "#Atividade 1\n",
    "\n",
    "contador = 1\n",
    "lista = []\n",
    "\n",
    "while contador <= 5:\n",
    "    numero = int(input(f\"Digite o {contador}° número :\"))\n",
    "    contador +=1\n",
    "    if numero%2 == 0:\n",
    "        lista.append(numero)\n",
    "\n",
    "print(f\"números pares: {lista} a soma dos números pares {sum(lista)}\")"
   ]
  },
  {
   "cell_type": "code",
   "execution_count": null,
   "id": "e19bb683",
   "metadata": {},
   "outputs": [],
   "source": [
    "#Atividade 2\n",
    "\n",
    "lista = []\n",
    "contador = 1\n",
    "\n",
    "while contador <= 5:\n",
    "    produtos = str(input(f\"Digite o nome do {contador}° produto : \"))\n",
    "    lista.append(produtos)\n",
    "    contador += 1\n",
    "\n",
    "print(lista)"
   ]
  },
  {
   "cell_type": "code",
   "execution_count": 1,
   "id": "7125578d",
   "metadata": {},
   "outputs": [
    {
     "ename": "ValueError",
     "evalue": "invalid literal for int() with base 10: ''",
     "output_type": "error",
     "traceback": [
      "\u001b[31m---------------------------------------------------------------------------\u001b[39m",
      "\u001b[31mValueError\u001b[39m                                Traceback (most recent call last)",
      "\u001b[36mCell\u001b[39m\u001b[36m \u001b[39m\u001b[32mIn[1]\u001b[39m\u001b[32m, line 4\u001b[39m\n\u001b[32m      1\u001b[39m \u001b[38;5;66;03m#Atividade 3\u001b[39;00m\n\u001b[32m      3\u001b[39m \u001b[38;5;28;01mfor\u001b[39;00m i \u001b[38;5;129;01min\u001b[39;00m \u001b[38;5;28mrange\u001b[39m(\u001b[32m100\u001b[39m):\n\u001b[32m----> \u001b[39m\u001b[32m4\u001b[39m     numero = \u001b[38;5;28;43mint\u001b[39;49m\u001b[43m(\u001b[49m\u001b[38;5;28;43minput\u001b[39;49m\u001b[43m(\u001b[49m\u001b[33;43m\"\u001b[39;49m\u001b[33;43mDigite um número para tabuada:\u001b[39;49m\u001b[33;43m\"\u001b[39;49m\u001b[43m)\u001b[49m\u001b[43m)\u001b[49m\n\u001b[32m      5\u001b[39m     contador = \u001b[32m1\u001b[39m\n\u001b[32m      6\u001b[39m     \u001b[38;5;28;01mwhile\u001b[39;00m contador <= \u001b[32m10\u001b[39m:\n",
      "\u001b[31mValueError\u001b[39m: invalid literal for int() with base 10: ''"
     ]
    }
   ],
   "source": [
    "#Atividade 3\n",
    "\n",
    "for i in range(100):\n",
    "    numero = int(input(\"Digite um número para tabuada:\"))\n",
    "    contador = 1\n",
    "    while contador <= 10:\n",
    "        print(f\"{numero} x {contador} = {numero*contador}\")\n",
    "        \n",
    "    \n",
    "    "
   ]
  }
 ],
 "metadata": {
  "kernelspec": {
   "display_name": "Python 3",
   "language": "python",
   "name": "python3"
  },
  "language_info": {
   "codemirror_mode": {
    "name": "ipython",
    "version": 3
   },
   "file_extension": ".py",
   "mimetype": "text/x-python",
   "name": "python",
   "nbconvert_exporter": "python",
   "pygments_lexer": "ipython3",
   "version": "3.12.0"
  }
 },
 "nbformat": 4,
 "nbformat_minor": 5
}
