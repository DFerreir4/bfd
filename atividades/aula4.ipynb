{
 "cells": [
  {
   "cell_type": "code",
   "execution_count": null,
   "id": "0e1ff63f",
   "metadata": {},
   "outputs": [
    {
     "name": "stdout",
     "output_type": "stream",
     "text": [
      "Entrada BLOQUEADA! Você NÃO é maior de idade ou NÃO é VIP\n"
     ]
    }
   ],
   "source": [
    "#Atividade Prática\n",
    "\n",
    "idade = int(input(\"Quantos anos você tem? \"))\n",
    "vip = bool(input(\"VocÊ é VIP? (True/False)\"))\n",
    "\n",
    "if vip == \"true\":\n",
    "    vip = True\n",
    "else: vip = False\n",
    "\n",
    "if idade > 17 and vip == True:\n",
    "    print(f\"Entrada Liberada! Você tem {idade} anos e é VIP!\")\n",
    "else: print(\"Entrada BLOQUEADA! Você NÃO é maior de idade ou NÃO é VIP\")"
   ]
  },
  {
   "cell_type": "code",
   "execution_count": 21,
   "id": "ad5f3dab",
   "metadata": {},
   "outputs": [
    {
     "name": "stdout",
     "output_type": "stream",
     "text": [
      "Recuperação! Você ainda tem chance de ser aprovado. Estude mais para alcançar esse objetivo.\n"
     ]
    }
   ],
   "source": [
    "#Atividade 1\n",
    "\n",
    "nomeAluno = str(input(\"Digite o nome do aluno : \"))\n",
    "notaAluno = float(input(f\"Digite a nota do {nomeAluno} :\"))\n",
    "\n",
    "if notaAluno >= 7:\n",
    "    print(f\"Aprovado! Parabéns {nomeAluno}, sua nota é : {notaAluno}\")\n",
    "elif notaAluno >= 5 and notaAluno < 7:\n",
    "    print(f\"Recuperação! Você ainda tem chance de ser aprovado. Estude mais para alcançar esse objetivo.\")\n",
    "else: print(\"Reprovado! Você pode tentar novamente ano que vem.\")"
   ]
  },
  {
   "cell_type": "code",
   "execution_count": 25,
   "id": "e8d2af85",
   "metadata": {},
   "outputs": [
    {
     "name": "stdout",
     "output_type": "stream",
     "text": [
      "Usuário ou senha incorretos\n"
     ]
    }
   ],
   "source": [
    "#Atividade 2\n",
    "\n",
    "login = str(input(\"Digite o login : \"))\n",
    "senha = str(input(\"Digite a senha : \"))\n",
    "\n",
    "if login == \"admin\" and senha == \"admin123\":\n",
    "    print(\"Acesso permitido ao sistema!\")\n",
    "else: print(\"Usuário ou senha incorretos\")\n",
    "\n"
   ]
  },
  {
   "cell_type": "code",
   "execution_count": 33,
   "id": "5e95d299",
   "metadata": {},
   "outputs": [
    {
     "name": "stdout",
     "output_type": "stream",
     "text": [
      "Você é o tipo de cliente comum, e seu desconto é de 0%. Total da compra: R$ 1000.0\n"
     ]
    }
   ],
   "source": [
    "#Atividade 3\n",
    "\n",
    "tipoCliente = str(input(\"Digite qual o tipo de cliente (comum  / vip / premium) : \"))\n",
    "valorCompra = float(input(\"Digite o valor da compra : \"))\n",
    "\n",
    "if tipoCliente == \"comum\" :\n",
    "    print(f\"Você é o tipo de cliente {tipoCliente}, e seu desconto é de 0%. Total da compra: R$\", valorCompra-((valorCompra/100)*0))\n",
    "elif tipoCliente == \"vip\":\n",
    "    print(f\"Você é o tipo de cliente {tipoCliente}, e seu desconto é de 10%. Total da compra: R$\", valorCompra-((valorCompra/100)*10))\n",
    "elif tipoCliente == \"premium\":\n",
    "    print(f\"Você é o tipo de cliente {tipoCliente}, e seu desconto é de 20%. Total da compra: R$\", valorCompra-((valorCompra/100)*20))\n",
    "else: print(\"Erro! Tipo de cliente ou valor incorretos. Tente novamente!\")"
   ]
  }
 ],
 "metadata": {
  "kernelspec": {
   "display_name": "Python 3",
   "language": "python",
   "name": "python3"
  },
  "language_info": {
   "codemirror_mode": {
    "name": "ipython",
    "version": 3
   },
   "file_extension": ".py",
   "mimetype": "text/x-python",
   "name": "python",
   "nbconvert_exporter": "python",
   "pygments_lexer": "ipython3",
   "version": "3.12.0"
  }
 },
 "nbformat": 4,
 "nbformat_minor": 5
}
