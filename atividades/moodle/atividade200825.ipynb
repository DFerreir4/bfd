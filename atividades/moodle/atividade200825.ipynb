{
 "cells": [
  {
   "cell_type": "code",
   "execution_count": 4,
   "id": "f9fb46f5",
   "metadata": {},
   "outputs": [
    {
     "name": "stdout",
     "output_type": "stream",
     "text": [
      "Valor por hora trabalhada : R$ 15.00\n",
      "Quantidade de horsa trabalhadas : R$ 176.00\n",
      "--------------------------------------------------------\n",
      "+ Salário Bruto : R$ 2,640.00\n",
      "- IR (11%) : R$ 290.40\n",
      "- INSS (9%) : R$ 237.60\n",
      "- Sindicato (4%) : R$ 105.60\n",
      "# Total de descontos : R$ 633.60\n",
      "--------------------------------------------------------\n",
      "= Salário Líquido : R$ 2,006.40\n"
     ]
    }
   ],
   "source": [
    "#Escreva um programa em Python que:\n",
    "#1. Solicite ao usuário:\n",
    "#■ O valor recebido por hora trabalhada;\n",
    "#■ A quantidade de horas trabalhadas no mês.\n",
    "\n",
    "valorHora = float(input(\"Digite o valor recebido por hora :\"))\n",
    "qtdHoras = float(input(\"Digite a quantidade de horas trabalhadas no mês : \"))\n",
    "\n",
    "#2. Calcule:\n",
    "#■ Salário Bruto (valor da hora × horas trabalhadas);\n",
    "#■ Desconto do Imposto de Renda (11%);\n",
    "#■ Desconto do INSS (9%);\n",
    "#■ Desconto do Sindicato (4%);\n",
    "#■ Salário Líquido (Salário Bruto − soma dos descontos).\n",
    "\n",
    "salarioBruto = valorHora*horasTrabalhadas\n",
    "descImposto = (salarioBruto*11)/100\n",
    "descInss = (salarioBruto*9)/100\n",
    "descSind = (salarioBruto*4)/100\n",
    "totalDesc = descImposto + descInss + descSind\n",
    "salarioLiquido = salarioBruto - totalDesc\n",
    "\n",
    "#3. Apresente o resultado no seguinte formato:\n",
    "#● + Salário Bruto : R$ xxxx.xx\n",
    "#● - IR (11%) : R$ xxxx.xx\n",
    "#● - INSS (9%) : R$ xxxx.xx\n",
    "#● - Sindicato (4%) : R$ xxxx.xx\n",
    "#● = Salário Líquido : R$ xxxx.xx\n",
    "\n",
    "print(f\"Valor por hora trabalhada : R$ {valorHora:,.2f}\")\n",
    "print(f\"Quantidade de horsa trabalhadas : R$ {qtdHoras:,.2f}\")\n",
    "print(\"--------------------------------------------------------\")\n",
    "print(f\"+ Salário Bruto : R$ {salarioBruto:,.2f}\")\n",
    "print(f\"- IR (11%) : R$ {descImposto:,.2f}\")\n",
    "print(f\"- INSS (9%) : R$ {descInss:,.2f}\")\n",
    "print(f\"- Sindicato (4%) : R$ {descSind:,.2f}\")\n",
    "print(f\"# Total de descontos : R$ {totalDesc:,.2f}\")\n",
    "print(\"--------------------------------------------------------\")\n",
    "print(f\"= Salário Líquido : R$ {salarioLiquido:,.2f}\")\n",
    "\n",
    "\n",
    "\n",
    "\n"
   ]
  }
 ],
 "metadata": {
  "kernelspec": {
   "display_name": "Python 3",
   "language": "python",
   "name": "python3"
  },
  "language_info": {
   "codemirror_mode": {
    "name": "ipython",
    "version": 3
   },
   "file_extension": ".py",
   "mimetype": "text/x-python",
   "name": "python",
   "nbconvert_exporter": "python",
   "pygments_lexer": "ipython3",
   "version": "3.12.0"
  }
 },
 "nbformat": 4,
 "nbformat_minor": 5
}
