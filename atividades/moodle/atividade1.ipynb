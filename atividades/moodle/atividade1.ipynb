{
 "cells": [
  {
   "cell_type": "code",
   "execution_count": 43,
   "id": "9f4da8e9",
   "metadata": {},
   "outputs": [
    {
     "name": "stdout",
     "output_type": "stream",
     "text": [
      "123\n",
      "123.0\n"
     ]
    }
   ],
   "source": [
    "#1 Exercícios\n",
    "\n",
    "#1. Conversção de Tipos\n",
    "#Converta a string \"123\" para int e depois para float. Imprima os dois resultados.\n",
    "x = \"123\"\n",
    "x = int(x)\n",
    "print(x)\n",
    "x = float(x)\n",
    "print(x)"
   ]
  },
  {
   "cell_type": "code",
   "execution_count": 44,
   "id": "769a71a8",
   "metadata": {},
   "outputs": [
    {
     "name": "stdout",
     "output_type": "stream",
     "text": [
      "18\n",
      "PYTHON É INCRÍVEL!\n",
      "Python é poderoso!\n"
     ]
    }
   ],
   "source": [
    "#2. Operações com Strings\n",
    "\n",
    "#Dada a string \"Python é incrível!\", faça o seguinte:\n",
    "x = \"Python é incrível!\"\n",
    "\n",
    "#• Conte quantos caracteres ela possui (incluindo espaços)\n",
    "print(len(x))\n",
    "\n",
    "#• Converta toda a string para maíusculas\n",
    "print(x.upper())\n",
    "\n",
    "#• Substitua a palavra ”incrível”por ”poderoso”\n",
    "print(x.replace(\"incrível\",\"poderoso\"))"
   ]
  },
  {
   "cell_type": "code",
   "execution_count": 45,
   "id": "aa852603",
   "metadata": {},
   "outputs": [
    {
     "name": "stdout",
     "output_type": "stream",
     "text": [
      "30\n",
      "[10, 30, 40, 50, 60]\n"
     ]
    }
   ],
   "source": [
    "#3. Listas e Indexação\n",
    "\n",
    "#Dada a lista numeros = [10, 20, 30, 40, 50], faça:\n",
    "lista_numeros = [10, 20, 30, 40, 50]\n",
    "\n",
    "#• Acesse e imprima o terceiro elemento\n",
    "print(lista_numeros[2])\n",
    "\n",
    "#• Adicione o número 60 no final da lista\n",
    "lista_numeros.append(60)\n",
    "\n",
    "#• Remova o número 20 da lista\n",
    "lista_numeros.remove(20)\n",
    "print(lista_numeros)\n",
    "\n"
   ]
  },
  {
   "cell_type": "code",
   "execution_count": 46,
   "id": "e8a54ca1",
   "metadata": {},
   "outputs": [
    {
     "name": "stdout",
     "output_type": "stream",
     "text": [
      "Engenharia\n"
     ]
    }
   ],
   "source": [
    "#4. Dicionários\n",
    "\n",
    "#Crie um dicionário chamado aluno com:\n",
    "#• \"nome\": ”Maria”\n",
    "#• \"idade\": 22\n",
    "#• \"curso\": ”Engenharia”\n",
    "aluno = {\"nome\" : \"maria\", \"idade\" : 22, \"curso\" : \"Engenharia\"}\n",
    "\n",
    "#• Adicione uma nova chave \"notas\" com a lista [8.5, 7.0, 9.2]\n",
    "aluno[\"notas\"] = [8.5, 7.0, 9.2]\n",
    "\n",
    "#• Imprima apenas o valor da chave \"curso\"\n",
    "print(aluno[\"curso\"])\n",
    "\n"
   ]
  },
  {
   "cell_type": "code",
   "execution_count": 47,
   "id": "65da49e8",
   "metadata": {},
   "outputs": [
    {
     "name": "stdout",
     "output_type": "stream",
     "text": [
      "{'vermelho', 'azul', 'amarelo', 'verde'}\n"
     ]
    }
   ],
   "source": [
    "#5 .Tuplas e Conjuntos\n",
    "\n",
    "#Dada a tupla cores = (\"vermelho\", \"verde\", \"azul\", \"verde\"):\n",
    "cores = [\"vermelho\", \"verde\", \"azul\", \"verde\"]\n",
    "\n",
    "#• Converta-a em um conjunto para remover duplicatas\n",
    "conjunto = set(cores)\n",
    "\n",
    "#• Adicione a cor \"amarelo\" ao conjunto\n",
    "conjunto.add(\"amarelo\")\n",
    "print(conjunto)"
   ]
  },
  {
   "cell_type": "code",
   "execution_count": 48,
   "id": "a0ccf20c",
   "metadata": {},
   "outputs": [
    {
     "name": "stdout",
     "output_type": "stream",
     "text": [
      "3\n",
      "3\n"
     ]
    }
   ],
   "source": [
    "#6. Operações Matemáticas\n",
    "#Declare duas variáveis:\n",
    "#• a = 15 (int)\n",
    "#• b = 4 (int)\n",
    "a = 15\n",
    "b = 4\n",
    "\n",
    "#Calcule e imprima:\n",
    "#• A divisão inteira de a por b\n",
    "div_int = a // b\n",
    "print(div_int)\n",
    "\n",
    "#• O resto da divisão de a por b\n",
    "resto = a%b\n",
    "print(resto)\n"
   ]
  },
  {
   "cell_type": "code",
   "execution_count": 49,
   "id": "78a0ce2a",
   "metadata": {},
   "outputs": [
    {
     "name": "stdout",
     "output_type": "stream",
     "text": [
      "<class 'int'>\n",
      "<class 'float'>\n",
      "<class 'str'>\n",
      "<class 'bool'>\n",
      "<class 'list'>\n"
     ]
    }
   ],
   "source": [
    "#7. Verificação de Tipos\n",
    "#Dada a lista dados = [42, 3.14, \"Python\", True, [1, 2]], percorra cada elemento\n",
    "#e imprima seu tipo.\n",
    "dados = [42, 3.14, \"Python\", True, [1, 2]]\n",
    "\n",
    "for tipos_dados in dados:\n",
    "    print(type(tipos_dados))\n"
   ]
  },
  {
   "cell_type": "code",
   "execution_count": 50,
   "id": "0eed0c95",
   "metadata": {},
   "outputs": [
    {
     "name": "stdout",
     "output_type": "stream",
     "text": [
      "oãçamargorp\n",
      "False\n"
     ]
    }
   ],
   "source": [
    "#8. Manipulação de Strings\n",
    "#Dada a string \"programação\":\n",
    "string = \"programação\"\n",
    "\n",
    "#• Inverta a string\n",
    "string_invertida = string[::-1]\n",
    "print(string_invertida)\n",
    "\n",
    "#• Verifique se a string original é igual `a string invertida\n",
    "if string == string_invertida:\n",
    "    print(\"True\")\n",
    "else : print(\"False\")\n",
    "\n"
   ]
  },
  {
   "cell_type": "code",
   "execution_count": 51,
   "id": "f9b09de2",
   "metadata": {},
   "outputs": [
    {
     "name": "stdout",
     "output_type": "stream",
     "text": [
      "5\n",
      "[[1, 2, 3], [4, 5, 6], [7, 10, 9]]\n"
     ]
    }
   ],
   "source": [
    "#9. Listas Aninhadas\n",
    "#Dada a lista matriz = [[1, 2, 3], [4, 5, 6], [7, 8, 9]]:\n",
    "matriz = [[1, 2, 3], [4, 5, 6], [7, 8, 9]]\n",
    "\n",
    "#• Acesse e imprima o número 5\n",
    "print(matriz[1][1])\n",
    "\n",
    "#• Substitua o número 8 por 10\n",
    "matriz[2][1] = 10\n",
    "print(matriz)\n",
    "\n"
   ]
  },
  {
   "cell_type": "code",
   "execution_count": null,
   "id": "cd2e151c",
   "metadata": {},
   "outputs": [
    {
     "name": "stdout",
     "output_type": "stream",
     "text": [
      "['maçã', 'laranja', 'pera']\n"
     ]
    }
   ],
   "source": [
    "#10. Desafio Final\n",
    "#Crie um dicionário estoque com:\n",
    "#• \"maçã\": 10\n",
    "#• \"banana\": 5\n",
    "#• \"laranja\": 8\n",
    "estoque = {\"maçã\" : 10, \"banana\" : 5, \"laranja\" : 8}\n",
    "\n",
    "#Faça o seguinte:\n",
    "#• Adicione \"pera\" com quantidade 12\n",
    "estoque[\"pera\"] = 8\n",
    "\n",
    "#• Remova \"banana\"\n",
    "del estoque[\"banana\"]\n",
    "\n",
    "#• Imprima apenas os nomes dos itens (chaves)\n",
    "nomes = list(estoque.keys())\n",
    "print(nomes)\n"
   ]
  }
 ],
 "metadata": {
  "kernelspec": {
   "display_name": "Python 3",
   "language": "python",
   "name": "python3"
  },
  "language_info": {
   "codemirror_mode": {
    "name": "ipython",
    "version": 3
   },
   "file_extension": ".py",
   "mimetype": "text/x-python",
   "name": "python",
   "nbconvert_exporter": "python",
   "pygments_lexer": "ipython3",
   "version": "3.12.0"
  }
 },
 "nbformat": 4,
 "nbformat_minor": 5
}
