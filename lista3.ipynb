{
 "cells": [
  {
   "cell_type": "code",
   "execution_count": null,
   "id": "0c014dcc",
   "metadata": {},
   "outputs": [
    {
     "name": "stdout",
     "output_type": "stream",
     "text": [
      "Você tem 2 anos. Não esta entre a faixa etária de 18 a 30 anos. \n"
     ]
    }
   ],
   "source": [
    "#Questão 1\n",
    "\n",
    "idade = int(input(\"Digite sua idade : \"))\n",
    "if idade >= 18 and idade >= 30:\n",
    "    print(f\"Parabéns! Você tem {idade} anos e está na faixa etária de 18 a 30 anos. \")\n",
    "else:\n",
    "    print(f\"Você tem {idade} anos. Não esta entre a faixa etária de 18 a 30 anos. \")\n"
   ]
  },
  {
   "cell_type": "code",
   "execution_count": 14,
   "id": "33f0635c",
   "metadata": {},
   "outputs": [
    {
     "name": "stdout",
     "output_type": "stream",
     "text": [
      "Um dos números digitados (5, 2) é multiplo de 5\n"
     ]
    }
   ],
   "source": [
    "#Questão 2\n",
    "\n",
    "n1 = int(input(\"Digite o primeiro número : \"))\n",
    "n2 = int(input(\"Digite o segundo número : \"))\n",
    "\n",
    "if n1 % 5 == 0 or n2 % 5 == 0:\n",
    "    print(f\"Um dos números digitados {n1,n2} é multiplo de 5\")\n",
    "else:\n",
    "    print(\"Nenhum dos dois é multiplo de 5\")"
   ]
  },
  {
   "cell_type": "code",
   "execution_count": 17,
   "id": "0238a771",
   "metadata": {},
   "outputs": [
    {
     "name": "stdout",
     "output_type": "stream",
     "text": [
      "APROVADO! Você atingiu uma nota acima da média : 6.0 ou entregou o trabalho extra.\n"
     ]
    }
   ],
   "source": [
    "#Questão 3\n",
    "\n",
    "nota = float(input(\"Digite a nota do aluno : \"))\n",
    "trabalhoExtra = str(input(\"Ele fez alguma trabalho ? (Sim/Não)\"))\n",
    "\n",
    "if nota >= 7 or trabalhoExtra == \"sim\" :\n",
    "    print(f\"APROVADO! Você atingiu uma nota acima da média : {nota} ou entregou o trabalho extra.\")\n",
    "else:\n",
    "    print(\"Reprovado...\")"
   ]
  },
  {
   "cell_type": "code",
   "execution_count": null,
   "id": "0da16992",
   "metadata": {},
   "outputs": [
    {
     "name": "stdout",
     "output_type": "stream",
     "text": [
      "impar\n"
     ]
    }
   ],
   "source": [
    "#Questão 4\n",
    "\n",
    "n1 = int(input(\"Digite um número : \"))\n",
    "if n1% 2 == 0:\n",
    "    print(f\"{n1}par\")\n",
    "else:\n",
    "    print(f\"{n1}impar\")"
   ]
  },
  {
   "cell_type": "code",
   "execution_count": 32,
   "id": "35e53189",
   "metadata": {},
   "outputs": [
    {
     "name": "stdout",
     "output_type": "stream",
     "text": [
      "O valor digitado foi : 101. NÃO está entre 50 e 100\n"
     ]
    }
   ],
   "source": [
    "#Questão 5\n",
    "\n",
    "n1 = int(input(\"Digite um valor : \"))\n",
    "if n1 >= 50 and n1 <= 100:\n",
    "    print(f\"O valor digitado foi : {n1} e está entre 50 e 100\")\n",
    "else:\n",
    "    print(f\"O valor digitado foi : {n1}. NÃO está entre 50 e 100\")"
   ]
  },
  {
   "cell_type": "code",
   "execution_count": 35,
   "id": "819b6e6f",
   "metadata": {},
   "outputs": [
    {
     "name": "stdout",
     "output_type": "stream",
     "text": [
      "idade : 19, carteira de motorista : sim. PODE DIRIGIR!\n"
     ]
    }
   ],
   "source": [
    "#Questão 6\n",
    "\n",
    "idade = int(input(\"Digite sua idade : \"))\n",
    "carteira = str(input(\"Possui carteira de motorista? (Sim/Não)\"))\n",
    "\n",
    "if idade >= 18 and carteira == \"sim\":\n",
    "    print(f\"idade : {idade}, carteira de motorista : {carteira}. PODE DIRIGIR!\")\n",
    "else:\n",
    "    print(\"Não pode dirigir!\")\n"
   ]
  },
  {
   "cell_type": "code",
   "execution_count": 47,
   "id": "bddefab1",
   "metadata": {},
   "outputs": [
    {
     "name": "stdout",
     "output_type": "stream",
     "text": [
      "números : (1, 2, 1). dois dos três são iguais.\n"
     ]
    }
   ],
   "source": [
    "#Questão 7\n",
    "\n",
    "n1 = int(input(\"Digite o primeiro número : \"))\n",
    "n2 = int(input(\"Digite o segundo número : \"))\n",
    "n3 = int(input(\"Digite o terceiro número : \"))\n",
    "\n",
    "if n1 == n2 or n2 == n3 or n3 == n1:\n",
    "    print(f\"números : {n1,n2,n3}. dois dos três são iguais.\")\n",
    "else:\n",
    "    print(\"Todos os números são diferentes.\")"
   ]
  },
  {
   "cell_type": "code",
   "execution_count": 56,
   "id": "5573e97d",
   "metadata": {},
   "outputs": [
    {
     "name": "stdout",
     "output_type": "stream",
     "text": [
      "erro\n"
     ]
    }
   ],
   "source": [
    "#Questão 8\n",
    "\n",
    "salario = float(input(\"Digite o salário : \"))\n",
    "if salario >= 2000 and salario <= 5000 or salario == 10000:\n",
    "    print(f\"Seu salário é : {salario}, e está entre os R$ 2.000,00 e R$ 5.000,00 ou é exatamente R$ 10.000,00\")\n",
    "else:\n",
    "    print(\"erro\")"
   ]
  }
 ],
 "metadata": {
  "kernelspec": {
   "display_name": "Python 3",
   "language": "python",
   "name": "python3"
  },
  "language_info": {
   "codemirror_mode": {
    "name": "ipython",
    "version": 3
   },
   "file_extension": ".py",
   "mimetype": "text/x-python",
   "name": "python",
   "nbconvert_exporter": "python",
   "pygments_lexer": "ipython3",
   "version": "3.12.0"
  }
 },
 "nbformat": 4,
 "nbformat_minor": 5
}
