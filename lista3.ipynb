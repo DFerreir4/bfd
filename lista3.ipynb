{
 "cells": [
  {
   "cell_type": "code",
   "execution_count": null,
   "id": "0c014dcc",
   "metadata": {},
   "outputs": [
    {
     "name": "stdout",
     "output_type": "stream",
     "text": [
      "Você tem 2 anos. Não esta entre a faixa etária de 18 a 30 anos. \n"
     ]
    }
   ],
   "source": [
    "#Questão 1\n",
    "\n",
    "idade = int(input(\"Digite sua idade : \"))\n",
    "if idade >= 18 and idade >= 30:\n",
    "    print(f\"Parabéns! Você tem {idade} anos e está na faixa etária de 18 a 30 anos. \")\n",
    "else:\n",
    "    print(f\"Você tem {idade} anos. Não esta entre a faixa etária de 18 a 30 anos. \")\n"
   ]
  },
  {
   "cell_type": "code",
   "execution_count": 14,
   "id": "33f0635c",
   "metadata": {},
   "outputs": [
    {
     "name": "stdout",
     "output_type": "stream",
     "text": [
      "Um dos números digitados (5, 2) é multiplo de 5\n"
     ]
    }
   ],
   "source": [
    "#Questão 2\n",
    "\n",
    "n1 = int(input(\"Digite o primeiro número : \"))\n",
    "n2 = int(input(\"Digite o segundo número : \"))\n",
    "\n",
    "if n1 % 5 == 0 or n2 % 5 == 0:\n",
    "    print(f\"Um dos números digitados {n1,n2} é multiplo de 5\")\n",
    "else:\n",
    "    print(\"Nenhum dos dois é multiplo de 5\")"
   ]
  },
  {
   "cell_type": "code",
   "execution_count": 17,
   "id": "0238a771",
   "metadata": {},
   "outputs": [
    {
     "name": "stdout",
     "output_type": "stream",
     "text": [
      "APROVADO! Você atingiu uma nota acima da média : 6.0 ou entregou o trabalho extra.\n"
     ]
    }
   ],
   "source": [
    "#Questão 3\n",
    "\n",
    "nota = float(input(\"Digite a nota do aluno : \"))\n",
    "trabalhoExtra = str(input(\"Ele fez alguma trabalho ? (Sim/Não)\"))\n",
    "\n",
    "if nota >= 7 or trabalhoExtra == \"sim\" :\n",
    "    print(f\"APROVADO! Você atingiu uma nota acima da média : {nota} ou entregou o trabalho extra.\")\n",
    "else:\n",
    "    print(\"Reprovado...\")"
   ]
  },
  {
   "cell_type": "code",
   "execution_count": null,
   "id": "0da16992",
   "metadata": {},
   "outputs": [
    {
     "name": "stdout",
     "output_type": "stream",
     "text": [
      "impar\n"
     ]
    }
   ],
   "source": [
    "#Questão 4\n",
    "\n",
    "n1 = int(input(\"Digite um número : \"))\n",
    "if n1% 2 == 0:\n",
    "    print(f\"{n1}par\")\n",
    "else:\n",
    "    print(f\"{n1}impar\")"
   ]
  },
  {
   "cell_type": "code",
   "execution_count": 32,
   "id": "35e53189",
   "metadata": {},
   "outputs": [
    {
     "name": "stdout",
     "output_type": "stream",
     "text": [
      "O valor digitado foi : 101. NÃO está entre 50 e 100\n"
     ]
    }
   ],
   "source": [
    "#Questão 5\n",
    "\n",
    "n1 = int(input(\"Digite um valor : \"))\n",
    "if n1 >= 50 and n1 <= 100:\n",
    "    print(f\"O valor digitado foi : {n1} e está entre 50 e 100\")\n",
    "else:\n",
    "    print(f\"O valor digitado foi : {n1}. NÃO está entre 50 e 100\")"
   ]
  },
  {
   "cell_type": "code",
   "execution_count": 35,
   "id": "819b6e6f",
   "metadata": {},
   "outputs": [
    {
     "name": "stdout",
     "output_type": "stream",
     "text": [
      "idade : 19, carteira de motorista : sim. PODE DIRIGIR!\n"
     ]
    }
   ],
   "source": [
    "#Questão 6\n",
    "\n",
    "idade = int(input(\"Digite sua idade : \"))\n",
    "carteira = str(input(\"Possui carteira de motorista? (Sim/Não)\"))\n",
    "\n",
    "if idade >= 18 and carteira == \"sim\":\n",
    "    print(f\"idade : {idade}, carteira de motorista : {carteira}. PODE DIRIGIR!\")\n",
    "else:\n",
    "    print(\"Não pode dirigir!\")\n"
   ]
  },
  {
   "cell_type": "code",
   "execution_count": 47,
   "id": "bddefab1",
   "metadata": {},
   "outputs": [
    {
     "name": "stdout",
     "output_type": "stream",
     "text": [
      "números : (1, 2, 1). dois dos três são iguais.\n"
     ]
    }
   ],
   "source": [
    "#Questão 7\n",
    "\n",
    "n1 = int(input(\"Digite o primeiro número : \"))\n",
    "n2 = int(input(\"Digite o segundo número : \"))\n",
    "n3 = int(input(\"Digite o terceiro número : \"))\n",
    "\n",
    "if n1 == n2 or n2 == n3 or n3 == n1:\n",
    "    print(f\"números : {n1,n2,n3}. dois dos três são iguais.\")\n",
    "else:\n",
    "    print(\"Todos os números são diferentes.\")"
   ]
  },
  {
   "cell_type": "code",
   "execution_count": 1,
   "id": "5573e97d",
   "metadata": {},
   "outputs": [
    {
     "name": "stdout",
     "output_type": "stream",
     "text": [
      "Seu salário é : 10000.0, e está entre os R$ 2.000,00 e R$ 5.000,00 ou é exatamente R$ 10.000,00\n"
     ]
    }
   ],
   "source": [
    "#Questão 8\n",
    "\n",
    "salario = float(input(\"Digite o salário : \"))\n",
    "if salario >= 2000 and salario <= 5000 or salario == 10000:\n",
    "    print(f\"Seu salário é : {salario}, e está entre os R$ 2.000,00 e R$ 5.000,00 ou é exatamente R$ 10.000,00\")\n",
    "else:\n",
    "    print(\"Seu salário não está entre as condições.\")"
   ]
  },
  {
   "cell_type": "code",
   "execution_count": 4,
   "id": "e557c245",
   "metadata": {},
   "outputs": [
    {
     "name": "stdout",
     "output_type": "stream",
     "text": [
      "Sua quantidade foi menor que 10: 8 e SIM para essencial: sim.\n",
      "será reposto 2\n",
      "8 + 2 = 10\n"
     ]
    }
   ],
   "source": [
    "#Questão 9\n",
    "\n",
    "qtdProdutos = int(input(\"Digite a quantidade de produtos : \"))\n",
    "essencial = str(input(\"É essencial ? (Sim/Não)\"))\n",
    "\n",
    "if qtdProdutos < 10 and essencial == \"sim\": \n",
    "    qtd2 = 10 - qtdProdutos\n",
    "    qtd3 = qtd2 + qtdProdutos\n",
    "    print(f\"Sua quantidade foi menor que 10: {qtdProdutos} e SIM para essencial: {essencial}.\")\n",
    "    print(f\"será reposto {qtd2}\")  \n",
    "    print(f\"{qtdProdutos} + {qtd2} = {qtd3}\")\n",
    "\n",
    "else: print(\"Não será feita reposição.\")"
   ]
  },
  {
   "cell_type": "code",
   "execution_count": 8,
   "id": "bf439c6d",
   "metadata": {},
   "outputs": [
    {
     "name": "stdout",
     "output_type": "stream",
     "text": [
      "Seu IMC é de : 30.52409877598364\n",
      "Obesidade grau I.\n"
     ]
    }
   ],
   "source": [
    "#Questão 10\n",
    "\n",
    "altura = float(input(\"Digite a altura : \"))\n",
    "peso = float(input(\"Digite o peso : \"))\n",
    "calculo = peso/(altura*altura)\n",
    "\n",
    "if calculo < 18.5:\n",
    "    print(f\"Seu IMC é de : {calculo}\")\n",
    "    print(\"Abaixo do Peso.\")\n",
    "elif calculo >= 18.5 and calculo < 24.9:\n",
    "    print(f\"Seu IMC é de : {calculo}\")\n",
    "    print(\"Peso Normal.\")\n",
    "elif calculo >= 25 and calculo < 29.9:\n",
    "    print(f\"Seu IMC é de : {calculo}\")\n",
    "    print(\"Sobrepeso.\")\n",
    "elif calculo == 30:\n",
    "    print(f\"Seu IMC é de : {calculo}\")\n",
    "    print(\"Obesidade.\")\n",
    "elif calculo > 30 and calculo < 34.9:\n",
    "    print(f\"Seu IMC é de : {calculo}\")\n",
    "    print(\"Obesidade grau I.\")\n",
    "elif calculo >= 35 and calculo < 39.9:\n",
    "    print(f\"Seu IMC é de : {calculo}\")\n",
    "    print(\"Obesidade grau II.\")\n",
    "elif calculo >= 40:\n",
    "    print(\"Obesidade grau III(mórbida)\")\n",
    "\n"
   ]
  },
  {
   "cell_type": "code",
   "execution_count": 4,
   "id": "10ef8c99",
   "metadata": {},
   "outputs": [
    {
     "name": "stdout",
     "output_type": "stream",
     "text": [
      "O número digitado: 1, NÃO é multiplo de 3 e de 4 ao mesmo tempo\n"
     ]
    }
   ],
   "source": [
    "#Questão 11\n",
    "\n",
    "n1 = int(input(\"Digite um número: \"))\n",
    "\n",
    "if n1%4 == 0 and n1%3 == 0 :\n",
    "     print(f\"Número digitado: {n1}\")\n",
    "     print(f\"{n1} é multiplo de 3 e de 4 ao mesmo tempo\")\n",
    "else:print(f\"O número digitado: {n1}, NÃO é multiplo de 3 e de 4 ao mesmo tempo\")"
   ]
  },
  {
   "cell_type": "code",
   "execution_count": 7,
   "id": "1de2942b",
   "metadata": {},
   "outputs": [
    {
     "name": "stdout",
     "output_type": "stream",
     "text": [
      "idade/autorização: (18, 'não'). Entrada liberada!\n"
     ]
    }
   ],
   "source": [
    "#Questão 12    \n",
    "\n",
    "idade = int(input(\"Digite a idade: \"))\n",
    "autPais = str(input(\"Possui autorização dos pais? (Sim/Não)\"))\n",
    "\n",
    "if idade >= 18 or autPais == \"sim\":\n",
    "        print(f\"idade/autorização: {idade,autPais}. Entrada liberada!\")\n",
    "else:print(\"Entrada bloqueada!\")"
   ]
  }
 ],
 "metadata": {
  "kernelspec": {
   "display_name": "Python 3",
   "language": "python",
   "name": "python3"
  },
  "language_info": {
   "codemirror_mode": {
    "name": "ipython",
    "version": 3
   },
   "file_extension": ".py",
   "mimetype": "text/x-python",
   "name": "python",
   "nbconvert_exporter": "python",
   "pygments_lexer": "ipython3",
   "version": "3.12.0"
  }
 },
 "nbformat": 4,
 "nbformat_minor": 5
}
