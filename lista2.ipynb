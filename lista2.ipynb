{
 "cells": [
  {
   "cell_type": "code",
   "execution_count": 4,
   "id": "2f77ad30",
   "metadata": {},
   "outputs": [
    {
     "name": "stdout",
     "output_type": "stream",
     "text": [
      "10.0 + 9.0 = 19.0\n"
     ]
    }
   ],
   "source": [
    "#Questão 1\n",
    "\n",
    "n1 = float(input(\"Digite o primeiro número : \"))\n",
    "n2 = float(input(f\"Digite o número que pode somar com {n1} :\"))\n",
    "soma = n1+n2\n",
    "print(f\"{n1} + {n2} = {soma}\")"
   ]
  },
  {
   "cell_type": "code",
   "execution_count": 8,
   "id": "036a57bb",
   "metadata": {},
   "outputs": [
    {
     "name": "stdout",
     "output_type": "stream",
     "text": [
      "10.0 - 5.0 = 5.0\n"
     ]
    }
   ],
   "source": [
    "#Questão 2\n",
    "\n",
    "n1 = float(input(\"Digite o primeiro número : \"))\n",
    "n2 = float(input(f\"Digite o número que pode subtrair com {n1} :\"))\n",
    "sub = n1-n2\n",
    "print(f\"{n1} - {n2} = {sub}\")"
   ]
  },
  {
   "cell_type": "code",
   "execution_count": 9,
   "id": "e5d5b490",
   "metadata": {},
   "outputs": [
    {
     "name": "stdout",
     "output_type": "stream",
     "text": [
      "10.0 X 3.0 = 30.0\n"
     ]
    }
   ],
   "source": [
    "#Questão 3 \n",
    "\n",
    "n1 = float(input(\"Digite o primeiro número : \"))\n",
    "n2 = float(input(f\"Digite o número que pode multiplicar com {n1} :\"))\n",
    "mult = n1*n2\n",
    "print(f\"{n1} X {n2} = {mult}\")\n"
   ]
  },
  {
   "cell_type": "code",
   "execution_count": 10,
   "id": "5838ede7",
   "metadata": {},
   "outputs": [
    {
     "name": "stdout",
     "output_type": "stream",
     "text": [
      "10.0 / 2.0 = 5.0\n"
     ]
    }
   ],
   "source": [
    "#Questão 4\n",
    "\n",
    "n1 = float(input(\"Digite o primeiro número : \"))\n",
    "n2 = float(input(f\"Digite o número que pode dividir com {n1} :\"))\n",
    "div = n1/n2\n",
    "print(f\"{n1} / {n2} = {div}\")"
   ]
  },
  {
   "cell_type": "code",
   "execution_count": 12,
   "id": "c46e396c",
   "metadata": {},
   "outputs": [
    {
     "name": "stdout",
     "output_type": "stream",
     "text": [
      "O dobro de 5.0 é 25.0\n"
     ]
    }
   ],
   "source": [
    "#Questão 5\n",
    "\n",
    "n1 = float(input(\"Digite um número : \"))\n",
    "dobro = n1**2\n",
    "\n",
    "print(f\"O dobro de {n1} é {dobro}\")"
   ]
  },
  {
   "cell_type": "code",
   "execution_count": 13,
   "id": "39464cc1",
   "metadata": {},
   "outputs": [
    {
     "name": "stdout",
     "output_type": "stream",
     "text": [
      "O triplo de 5.0 é 125.0\n"
     ]
    }
   ],
   "source": [
    "#Questão 6\n",
    "\n",
    "n1 = float(input(\"Digite um número : \"))\n",
    "triplo = n1**3\n",
    "\n",
    "print(f\"O triplo de {n1} é {triplo}\")"
   ]
  },
  {
   "cell_type": "code",
   "execution_count": 15,
   "id": "182a1221",
   "metadata": {},
   "outputs": [
    {
     "name": "stdout",
     "output_type": "stream",
     "text": [
      "A metade de 2.0 é 1.0\n"
     ]
    }
   ],
   "source": [
    "#Questão 7\n",
    "\n",
    "n1 = float(input(\"Digite um número : \"))\n",
    "metade = n1/2\n",
    "\n",
    "print(f\"A metade de {n1} é {metade}\")"
   ]
  },
  {
   "cell_type": "code",
   "execution_count": 16,
   "id": "d11c043a",
   "metadata": {},
   "outputs": [
    {
     "name": "stdout",
     "output_type": "stream",
     "text": [
      "Primeiro e segundo número digitado : (10.0, 5.0), True\n"
     ]
    }
   ],
   "source": [
    "#Questão 8\n",
    "\n",
    "n1 = float(input(\"Digite um número : \"))\n",
    "n2 = float(input(\"Digite outro número : \"))\n",
    "#variável MAIOR ta comparando se o n1 é maior que o n2. true = verdadeiro , false = falso\n",
    "maior = (n1 > n2)\n",
    "\n",
    "print(f\"Primeiro e segundo número digitado : {n1,n2}, {maior}\")\n",
    "\n"
   ]
  },
  {
   "cell_type": "code",
   "execution_count": 17,
   "id": "7a732003",
   "metadata": {},
   "outputs": [
    {
     "name": "stdout",
     "output_type": "stream",
     "text": [
      "Primeiro e segundo número digitado : (5.0, 10.0), True\n"
     ]
    }
   ],
   "source": [
    "#Questão 9\n",
    "\n",
    "n1 = float(input(\"Digite um número : \"))\n",
    "n2 = float(input(\"Digite outro número : \"))\n",
    "#variável MENOR ta comparando se o n1 é menor que o n2. true = verdadeiro , false = falso\n",
    "menor = (n1 < n2)\n",
    "\n",
    "print(f\"Primeiro e segundo número digitado : {n1,n2}, {menor}\")"
   ]
  },
  {
   "cell_type": "code",
   "execution_count": 18,
   "id": "522bcc23",
   "metadata": {},
   "outputs": [
    {
     "name": "stdout",
     "output_type": "stream",
     "text": [
      "Primeiro e segundo número digitado : (5.0, 5.0), True\n"
     ]
    }
   ],
   "source": [
    "#Questão 10\n",
    "\n",
    "n1 = float(input(\"Digite um número : \"))\n",
    "n2 = float(input(\"Digite outro número : \"))\n",
    "#variável IGUAL ta comparando se o n1 é igual que o n2. true = verdadeiro , false = falso\n",
    "igual = (n1 == n2)\n",
    "\n",
    "print(f\"Primeiro e segundo número digitado : {n1,n2}, {igual}\")"
   ]
  },
  {
   "cell_type": "code",
   "execution_count": 20,
   "id": "73bce14c",
   "metadata": {},
   "outputs": [
    {
     "name": "stdout",
     "output_type": "stream",
     "text": [
      "O número digitado foi 3.0, o resto da dívisão por 2 : 1.0 \n"
     ]
    }
   ],
   "source": [
    "#Questão 11\n",
    "\n",
    "n1 = float(input(\"Digite um número : \"))\n",
    "resto = n1%2\n",
    "\n",
    "print(f\"O número digitado foi {n1}, o resto da dívisão por 2 : {resto} \")"
   ]
  },
  {
   "cell_type": "code",
   "execution_count": 21,
   "id": "c4e1dd77",
   "metadata": {},
   "outputs": [
    {
     "name": "stdout",
     "output_type": "stream",
     "text": [
      "O número digitado foi 6.0, o resto da dívisão por 5 : 1.0 \n"
     ]
    }
   ],
   "source": [
    "#Questão 12\n",
    "n1 = float(input(\"Digite um número : \"))\n",
    "resto = n1%5\n",
    "\n",
    "print(f\"O número digitado foi {n1}, o resto da dívisão por 5 : {resto} \")\n"
   ]
  },
  {
   "cell_type": "code",
   "execution_count": 25,
   "id": "1969b148",
   "metadata": {},
   "outputs": [
    {
     "name": "stdout",
     "output_type": "stream",
     "text": [
      "A raiz quadrada de 36.0 é : 6.0 \n"
     ]
    }
   ],
   "source": [
    "#Questão 13\n",
    "import math\n",
    "\n",
    "n1 = float(input(\"Digite um número : \"))\n",
    "quad = math.sqrt(n1)\n",
    "\n",
    "print(f\"A raiz quadrada de {n1} é : {quad} \")"
   ]
  },
  {
   "cell_type": "code",
   "execution_count": null,
   "id": "16c56b06",
   "metadata": {},
   "outputs": [],
   "source": [
    "#Questão 14\n",
    "\n",
    "n1 = float(input(\"Digite um número : \"))\n",
    "quad = n1**0.5\n",
    "\n",
    "print(f\"A raiz quadrada de {n1} é : {quad} \")"
   ]
  },
  {
   "cell_type": "code",
   "execution_count": 26,
   "id": "96003a33",
   "metadata": {},
   "outputs": [
    {
     "name": "stdout",
     "output_type": "stream",
     "text": [
      "Os números digitados foram (10.0, 4.0) e a média aritmética deles é : 7.0\n"
     ]
    }
   ],
   "source": [
    "#Questão 15\n",
    "\n",
    "n1 = float(input(\"Digite o primeiro número : \"))\n",
    "n2 = float(input(\"Digite o segundo número : \"))\n",
    "mediaAr = (n1+n2)/2\n",
    "\n",
    "print(f\"Os números digitados foram {n1,n2} e a média aritmética deles é : {mediaAr}\")"
   ]
  },
  {
   "cell_type": "code",
   "execution_count": 27,
   "id": "29a99a56",
   "metadata": {},
   "outputs": [
    {
     "name": "stdout",
     "output_type": "stream",
     "text": [
      "A soma dos 3 números é : 9.0\n"
     ]
    }
   ],
   "source": [
    "#Questão 16\n",
    "\n",
    "n1 = float(input(\"Digite o primeiro número : \"))\n",
    "n2 = float(input(f\"Digite o segundo número para somar com {n1} :\"))\n",
    "n3 = float(input(f\"Digite o terceiro número para somar com {n1,n2} :\"))\n",
    "\n",
    "soma = n1+n2+n3\n",
    "print(f\"A soma dos 3 números é : {soma}\")"
   ]
  },
  {
   "cell_type": "code",
   "execution_count": 32,
   "id": "b15330c4",
   "metadata": {},
   "outputs": [
    {
     "name": "stdout",
     "output_type": "stream",
     "text": [
      "Número digitado : 100.0, + os 10% = 110.0\n"
     ]
    }
   ],
   "source": [
    "#Questão 17\n",
    "\n",
    "n1 = float(input(\"Digite um número : \"))\n",
    "dez = ((n1*10)/100)+n1\n",
    "print(f\"Número digitado : {n1}, + os 10% = {dez}\")"
   ]
  },
  {
   "cell_type": "code",
   "execution_count": 33,
   "id": "f23ad658",
   "metadata": {},
   "outputs": [
    {
     "name": "stdout",
     "output_type": "stream",
     "text": [
      "Número digitado : 200.0, + os 20% = 240.0\n"
     ]
    }
   ],
   "source": [
    "#Questão 18\n",
    "\n",
    "\n",
    "n1 = float(input(\"Digite um número : \"))\n",
    "dez = ((n1*20)/100)+n1\n",
    "print(f\"Número digitado : {n1}, + os 20% = {dez}\")"
   ]
  },
  {
   "cell_type": "code",
   "execution_count": 35,
   "id": "94c4adf1",
   "metadata": {},
   "outputs": [
    {
     "name": "stdout",
     "output_type": "stream",
     "text": [
      "Os números foram digitados : (10.0, 9.0) e o maior valor : 10.0\n"
     ]
    }
   ],
   "source": [
    "#Questão 19\n",
    "\n",
    "n1 = float(input(\"Digite o primeiro número : \"))\n",
    "n2 = float(input(\"Digite o segundo número : \"))\n",
    "maior = max(n1,n2)\n",
    "\n",
    "print(f\"Os números foram digitados : {n1,n2} e o maior valor : {maior}\")"
   ]
  },
  {
   "cell_type": "code",
   "execution_count": 36,
   "id": "94c02db0",
   "metadata": {},
   "outputs": [
    {
     "name": "stdout",
     "output_type": "stream",
     "text": [
      "Os números foram digitados : (10.0, 9.0) e o menor valor : 9.0\n"
     ]
    }
   ],
   "source": [
    "#Questão 20\n",
    "\n",
    "n1 = float(input(\"Digite o primeiro número : \"))\n",
    "n2 = float(input(\"Digite o segundo número : \"))\n",
    "menor = min(n1,n2)\n",
    "\n",
    "print(f\"Os números foram digitados : {n1,n2} e o menor valor : {menor}\")"
   ]
  }
 ],
 "metadata": {
  "kernelspec": {
   "display_name": "Python 3",
   "language": "python",
   "name": "python3"
  },
  "language_info": {
   "codemirror_mode": {
    "name": "ipython",
    "version": 3
   },
   "file_extension": ".py",
   "mimetype": "text/x-python",
   "name": "python",
   "nbconvert_exporter": "python",
   "pygments_lexer": "ipython3",
   "version": "3.12.0"
  }
 },
 "nbformat": 4,
 "nbformat_minor": 5
}
