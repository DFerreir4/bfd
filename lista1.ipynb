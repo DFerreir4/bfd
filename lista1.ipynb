{
 "cells": [
  {
   "cell_type": "code",
   "execution_count": 3,
   "id": "3960b6d1",
   "metadata": {},
   "outputs": [
    {
     "name": "stdout",
     "output_type": "stream",
     "text": [
      "Primeira nota :  10.0\n",
      "Segunda nota :  5.0\n",
      "Terceira nota :  6.0\n",
      "A média :  7.0\n"
     ]
    }
   ],
   "source": [
    "#Questão 1\n",
    "\n",
    "#variaveis abaixo criadas para receber valores/notas\n",
    "nota1 = float(input(\"Digite a primeira nota do aluno: \"))\n",
    "nota2 = float(input(\"Digite a segunda nota do aluno: \"))\n",
    "nota3 = float(input(\"Digite a terceira nota do aluno: \"))\n",
    "\n",
    "#variavel media para fazer a operação de somar todas as notas e dividir por 3\n",
    "media = (nota1+nota2+nota3)/3\n",
    "\n",
    "print(\"Primeira nota : \",nota1)\n",
    "print(\"Segunda nota : \",nota2)\n",
    "print(\"Terceira nota : \",nota3)\n",
    "print(\"A média : \",media)\n"
   ]
  },
  {
   "cell_type": "code",
   "execution_count": 5,
   "id": "ab135293",
   "metadata": {},
   "outputs": [
    {
     "name": "stdout",
     "output_type": "stream",
     "text": [
      "valor de Celsius :  5.0 ° convertendo para Fahrenheit :  41.0 °\n"
     ]
    }
   ],
   "source": [
    "#Questão 2\n",
    "\n",
    "#variável c está representando celsius e vai receber um valor digitado\n",
    "c = float(input(\"Digite o valor de Celsius para converter para Fahrenheit : \"))\n",
    "\n",
    "#variável f está representando Fahrenheit e vai receber a formula de conversão\n",
    "f = c * (9/5) + 32\n",
    "\n",
    "print(\"valor de Celsius : \", c,\"° convertendo para Fahrenheit : \",f,\"°\")"
   ]
  },
  {
   "cell_type": "code",
   "execution_count": 5,
   "id": "250d4ec8",
   "metadata": {},
   "outputs": [
    {
     "name": "stdout",
     "output_type": "stream",
     "text": [
      "O primeiro número :  9.0\n",
      "O segundo número :  10.0\n",
      "o primeiro número é MAIOR que o segundo ?  False\n",
      "o primeiro número é MENOR que o segundo ?  True\n",
      "os números são IGUAIS ?  False\n"
     ]
    }
   ],
   "source": [
    "#Questão 3\n",
    "\n",
    "numero1 = float(input(\"Digite o primeiro número: \"))\n",
    "numero2 = float(input(\"Digite o segundo número: \"))\n",
    "\n",
    "maior = (numero1 > numero2)\n",
    "menor = (numero1 < numero2)\n",
    "igual = (numero1 == numero2) \n",
    "\n",
    "print(\"O primeiro número : \",numero1)\n",
    "print(\"O segundo número : \",numero2)\n",
    "print(\"o primeiro número é MAIOR que o segundo ? \",maior)\n",
    "print(\"o primeiro número é MENOR que o segundo ? \",menor)\n",
    "print(\"os números são IGUAIS ? \",igual)\n",
    "\n"
   ]
  },
  {
   "cell_type": "code",
   "execution_count": 7,
   "id": "f5e07438",
   "metadata": {},
   "outputs": [
    {
     "name": "stdout",
     "output_type": "stream",
     "text": [
      "Primeiro número :  10.0\n",
      "Segundo número :  11.0\n",
      "A soma dos dois números :  21.0\n",
      "A soma dos dois números é maior que 20 ?  True\n"
     ]
    }
   ],
   "source": [
    "#Questão 4\n",
    "\n",
    "n1 = float(input(\"Digite o primeiro número : \"))\n",
    "n2 = float(input(\"Digite o segundo número : \"))\n",
    "\n",
    "soma = n1 + n2\n",
    "maior = (soma > 20)\n",
    "\n",
    "print(\"Primeiro número : \",n1)\n",
    "print(\"Segundo número : \",n2)\n",
    "print(\"A soma dos dois números : \",soma)\n",
    "print(\"A soma dos dois números é maior que 20 ? \",maior)"
   ]
  },
  {
   "cell_type": "code",
   "execution_count": 8,
   "id": "daa16fb0",
   "metadata": {},
   "outputs": [
    {
     "name": "stdout",
     "output_type": "stream",
     "text": [
      "nota 1 :  5.0 nota 2 :  5.0 nota 3 :  5.0\n",
      "média :  5.0\n",
      "É igual a 7 ?  False\n"
     ]
    }
   ],
   "source": [
    "#Questão 5\n",
    "\n",
    "nota1 = float(input(\"Digite a primeira nota : \"))\n",
    "nota2 = float(input(\"Digte a segunda nota : \"))\n",
    "nota3 = float(input(\"Digite a terceira nota : \"))\n",
    "\n",
    "media = (nota1+nota2+nota3)/3\n",
    "igual = (media == 7)\n",
    "\n",
    "print(\"nota 1 : \",nota1,\"nota 2 : \",nota2,\"nota 3 : \",nota3,)\n",
    "print(\"média : \",media)\n",
    "print(\"É igual a 7 ? \", igual)"
   ]
  },
  {
   "cell_type": "code",
   "execution_count": null,
   "id": "f4075d9e",
   "metadata": {},
   "outputs": [],
   "source": [
    "#Questão 6\n",
    "\n",
    "n1 = int(input(\"Digite um número inteiro : \"))\n",
    "resto = "
   ]
  }
 ],
 "metadata": {
  "kernelspec": {
   "display_name": "Python 3",
   "language": "python",
   "name": "python3"
  },
  "language_info": {
   "codemirror_mode": {
    "name": "ipython",
    "version": 3
   },
   "file_extension": ".py",
   "mimetype": "text/x-python",
   "name": "python",
   "nbconvert_exporter": "python",
   "pygments_lexer": "ipython3",
   "version": "3.12.0"
  }
 },
 "nbformat": 4,
 "nbformat_minor": 5
}
