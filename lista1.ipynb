{
 "cells": [
  {
   "cell_type": "code",
   "execution_count": 3,
   "id": "3960b6d1",
   "metadata": {},
   "outputs": [
    {
     "name": "stdout",
     "output_type": "stream",
     "text": [
      "Primeira nota :  10.0\n",
      "Segunda nota :  5.0\n",
      "Terceira nota :  6.0\n",
      "A média :  7.0\n"
     ]
    }
   ],
   "source": [
    "#Questão 1\n",
    "\n",
    "#variaveis abaixo criadas para receber valores/notas\n",
    "nota1 = float(input(\"Digite a primeira nota do aluno: \"))\n",
    "nota2 = float(input(\"Digite a segunda nota do aluno: \"))\n",
    "nota3 = float(input(\"Digite a terceira nota do aluno: \"))\n",
    "\n",
    "#variavel media para fazer a operação de somar todas as notas e dividir por 3\n",
    "media = (nota1+nota2+nota3)/3\n",
    "\n",
    "print(\"Primeira nota : \",nota1)\n",
    "print(\"Segunda nota : \",nota2)\n",
    "print(\"Terceira nota : \",nota3)\n",
    "print(\"A média : \",media)\n"
   ]
  },
  {
   "cell_type": "code",
   "execution_count": 5,
   "id": "ab135293",
   "metadata": {},
   "outputs": [
    {
     "name": "stdout",
     "output_type": "stream",
     "text": [
      "valor de Celsius :  5.0 ° convertendo para Fahrenheit :  41.0 °\n"
     ]
    }
   ],
   "source": [
    "#Questão 2\n",
    "\n",
    "#variável c está representando celsius e vai receber um valor digitado\n",
    "c = float(input(\"Digite o valor de Celsius para converter para Fahrenheit : \"))\n",
    "\n",
    "#variável f está representando Fahrenheit e vai receber a formula de conversão\n",
    "f = c * (9/5) + 32\n",
    "\n",
    "print(\"valor de Celsius : \", c,\"° convertendo para Fahrenheit : \",f,\"°\")"
   ]
  },
  {
   "cell_type": "code",
   "execution_count": null,
   "id": "250d4ec8",
   "metadata": {},
   "outputs": [
    {
     "ename": "SyntaxError",
     "evalue": "invalid syntax (1480414367.py, line 6)",
     "output_type": "error",
     "traceback": [
      "  \u001b[36mCell\u001b[39m\u001b[36m \u001b[39m\u001b[32mIn[8]\u001b[39m\u001b[32m, line 6\u001b[39m\n\u001b[31m    \u001b[39m\u001b[31m(numero1 >= numero2){\" primeiro número é maior ou igual que o segundo número\",numero1}\u001b[39m\n                        ^\n\u001b[31mSyntaxError\u001b[39m\u001b[31m:\u001b[39m invalid syntax\n"
     ]
    }
   ],
   "source": [
    "#Questão 3\n",
    "\n",
    "numero1 = float(input(\"Digite o primeiro número: \"))\n",
    "numero2 = float(input(\"Digite o segundo número: \"))\n",
    "\n"
   ]
  }
 ],
 "metadata": {
  "kernelspec": {
   "display_name": "Python 3",
   "language": "python",
   "name": "python3"
  },
  "language_info": {
   "codemirror_mode": {
    "name": "ipython",
    "version": 3
   },
   "file_extension": ".py",
   "mimetype": "text/x-python",
   "name": "python",
   "nbconvert_exporter": "python",
   "pygments_lexer": "ipython3",
   "version": "3.12.0"
  }
 },
 "nbformat": 4,
 "nbformat_minor": 5
}
