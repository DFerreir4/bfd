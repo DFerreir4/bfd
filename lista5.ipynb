{
 "cells": [
  {
   "cell_type": "code",
   "execution_count": 1,
   "id": "714c401d",
   "metadata": {},
   "outputs": [
    {
     "name": "stdout",
     "output_type": "stream",
     "text": [
      "Olá <Diego>!\n"
     ]
    }
   ],
   "source": [
    "#Questão 1\n",
    "\n",
    "def saudacao(nome):\n",
    "    print(f\"Olá <{nome}>!\")\n",
    "\n",
    "saudacao(\"Diego\")"
   ]
  },
  {
   "cell_type": "code",
   "execution_count": 2,
   "id": "c37d1c33",
   "metadata": {},
   "outputs": [
    {
     "data": {
      "text/plain": [
       "3"
      ]
     },
     "execution_count": 2,
     "metadata": {},
     "output_type": "execute_result"
    }
   ],
   "source": [
    "#Questão 2\n",
    "\n",
    "def soma(a,b):\n",
    "    resultado = a + b\n",
    "    return resultado\n",
    "\n",
    "soma(1,2)"
   ]
  },
  {
   "cell_type": "code",
   "execution_count": null,
   "id": "865ee88d",
   "metadata": {},
   "outputs": [
    {
     "data": {
      "text/plain": [
       "'número digitado foi : 1 / IMPAR'"
      ]
     },
     "execution_count": 8,
     "metadata": {},
     "output_type": "execute_result"
    }
   ],
   "source": [
    "#Questão 3\n",
    "\n",
    "def par_ou_impar(n):\n",
    "    if n % 2 == 0:\n",
    "        return f\"número digitado foi : {n} / PAR\"\n",
    "    else :\n",
    "        return f\"número digitado foi : {n} / IMPAR\"\n",
    "\n",
    "par_ou_impar(1)\n",
    "    "
   ]
  },
  {
   "cell_type": "code",
   "execution_count": null,
   "id": "b49885e8",
   "metadata": {},
   "outputs": [],
   "source": [
    "#Questão 3\n",
    "\n",
    "lista = []\n",
    "while True:    nn\n",
    "        numeros = int(input(\"Digite um número : \"))\n",
    "        if numeros == 0:\n",
    "            break\n",
    "  \n",
    "\n"
   ]
  }
 ],
 "metadata": {
  "kernelspec": {
   "display_name": "Python 3",
   "language": "python",
   "name": "python3"
  },
  "language_info": {
   "codemirror_mode": {
    "name": "ipython",
    "version": 3
   },
   "file_extension": ".py",
   "mimetype": "text/x-python",
   "name": "python",
   "nbconvert_exporter": "python",
   "pygments_lexer": "ipython3",
   "version": "3.12.0"
  }
 },
 "nbformat": 4,
 "nbformat_minor": 5
}
